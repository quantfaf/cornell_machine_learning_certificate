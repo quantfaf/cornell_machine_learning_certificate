{
 "cells": [
  {
   "cell_type": "markdown",
   "metadata": {
    "deletable": false,
    "editable": false,
    "nbgrader": {
     "checksum": "3ad3acfde198f7d8d7a4c17fbef87b66",
     "grade": false,
     "grade_id": "cell-bb88f0a35b56d0ae",
     "locked": true,
     "schema_version": 1,
     "solution": false
    },
    "pycharm": {
     "name": "#%% md\n"
    }
   },
   "source": [
    "<h2>About this Project</h2>\n",
    "\n",
    "**In this project, you will train a logistic regression classifier on artificial data. Specifically, you will implement functions to calculate the gradient of the logistic loss function and perform gradient descent.** You will use the classifier in the final project to create a logistic regression classifier that can \"filter\" spam email messages.\n",
    "\n",
    "<h3>Evaluation</h3>\n",
    "\n",
    "<p><strong>This project must be successfully completed and submitted in order to receive credit for this course. Your score on this project will be included in your final grade calculation.</strong><p>\n",
    "    \n",
    "<p>You are expected to write code where you see <em># YOUR CODE HERE</em> within the cells of this notebook. Not all cells will be graded; code input cells followed by cells marked with <em>#Autograder test cell</em> will be graded. Upon submitting your work, the code you write at these designated positions will be assessed using an \"autograder\" that will run all test cells to assess your code. You will receive feedback from the autograder that will identify any errors in your code. Use this feedback to improve your code if you need to resubmit. Be sure not to change the names of any provided functions, classes, or variables within the existing code cells, as this will interfere with the autograder. Also, remember to execute all code cells sequentially, not just those you’ve edited, to ensure your code runs properly.</p>\n",
    "    \n",
    "<p>You can resubmit your work as many times as necessary before the submission deadline. If you experience difficulty or have questions about this exercise, use the Q&A discussion board (found in the Live Labs section of this course) to engage with your peers or seek assistance from the instructor.<p>\n",
    "\n",
    "<p>Before starting your work, please review <a href=\"https://s3.amazonaws.com/ecornell/global/eCornellPlagiarismPolicy.pdf\">eCornell's policy regarding plagiarism</a> (the presentation of someone else's work as your own without source credit).</p>\n",
    "\n",
    "<h3>Submit Code for Autograder Feedback</h3>\n",
    "\n",
    "<p>Once you have completed your work on this notebook, you will submit your code for autograder review. Follow these steps:</p>\n",
    "\n",
    "<ol>\n",
    "    <li><strong>Save your notebook —</strong> Click <strong>Save and Checkpoint</strong> in the \"File\" menu.</li>\n",
    "  <li><strong>Mark as Completed —</strong> In the blue menu bar along the top of this code exercise window, you’ll see a menu item called <strong>Education</strong>. In the <strong>Education</strong> menu, click <strong>Mark as Completed</strong> to submit your code for autograder/instructor review. This process will take a moment and a progress bar will show you the status of your submission.</li>\n",
    "\t<li><strong>Review your results —</strong> Once your work is marked as complete, the results of the autograder will automatically be presented in a new tab within the code exercise window. You can click on the assessment name in this feedback window to see more details regarding specific feedback/errors in your code submission.</li>\n",
    "  <li><strong>Repeat, if necessary —</strong> The Jupyter notebook will always remain accessible in the first tabbed window of the exercise. To reattempt the work, you will first need to click <strong>Mark as Uncompleted</strong> in the <strong>Education</strong> menu and then proceed to make edits to the notebook. Once you are ready to resubmit, follow steps one through three. You can repeat this procedure as many times as necessary.</li>\n",
    "</ol>"
   ]
  },
  {
   "cell_type": "markdown",
   "metadata": {
    "deletable": false,
    "editable": false,
    "nbgrader": {
     "checksum": "9a5db60cf2d87cbe7e95ed275d7d6cf9",
     "grade": false,
     "grade_id": "cell-ae461e465b7f800e",
     "locked": true,
     "schema_version": 1,
     "solution": false
    },
    "pycharm": {
     "name": "#%% md\n"
    }
   },
   "source": [
    "<h2>Getting Started</h2>\n",
    "<h3>Python Initialization</h3> \n",
    "\n",
    "Please run the following code to initialize your Python kernel. You should be running a version of Python 3.x. </p>"
   ]
  },
  {
   "cell_type": "code",
   "execution_count": null,
   "metadata": {
    "deletable": false,
    "editable": false,
    "nbgrader": {
     "checksum": "e3c7b9574a10eba8fe3ac62d643ec4da",
     "grade": false,
     "grade_id": "cell-a801a09f2b1fc82b",
     "locked": true,
     "schema_version": 1,
     "solution": false
    },
    "pycharm": {
     "name": "#%%\n"
    }
   },
   "outputs": [],
   "source": [
    "import numpy as np\n",
    "import os\n",
    "import matplotlib.pyplot as plt\n",
    "import pandas as pd\n",
    "%matplotlib inline \n",
    "\n",
    "from helper import *\n",
    "\n",
    "print('You\\'re running python %s' % sys.version.split(' ')[0])"
   ]
  },
  {
   "cell_type": "markdown",
   "metadata": {
    "deletable": false,
    "editable": false,
    "nbgrader": {
     "checksum": "63742a45b09ee89aa8517f974a138129",
     "grade": false,
     "grade_id": "cell-5e40cd81b8f0dd4a",
     "locked": true,
     "schema_version": 1,
     "solution": false
    },
    "pycharm": {
     "name": "#%% md\n"
    }
   },
   "source": [
    "First, let's load artificial data and visualize the classes."
   ]
  },
  {
   "cell_type": "code",
   "execution_count": null,
   "metadata": {
    "deletable": false,
    "editable": false,
    "nbgrader": {
     "checksum": "89269594f8088b7b024fff79814f8b57",
     "grade": false,
     "grade_id": "cell-48afa45c97dc36fb",
     "locked": true,
     "schema_version": 1,
     "solution": false
    },
    "pycharm": {
     "name": "#%%\n"
    }
   },
   "outputs": [],
   "source": [
    "np.random.seed(12)\n",
    "n_samples = 500\n",
    "\n",
    "covariance = [[1, .25],\n",
    "              [.25, 1]]\n",
    "class_one = np.random.multivariate_normal(mean=[5, 10], cov=covariance, size=n_samples)\n",
    "class_one_labels = -np.ones(n_samples)\n",
    "\n",
    "class_two = np.random.multivariate_normal(mean=[0, 5], cov=covariance, size=n_samples)\n",
    "class_two_labels = np.ones(n_samples)\n",
    "\n",
    "features = np.vstack((class_one, class_two))\n",
    "labels = np.hstack((class_one_labels, class_two_labels))\n",
    "\n",
    "plt.figure(figsize=(9, 6))\n",
    "plt.scatter(features[:, 0], features[:, 1],\n",
    "            c=labels, alpha=.6);\n",
    "\n",
    "plt.title(\"Binary labeled data in 2D\", size=15);\n",
    "plt.xlabel(\"Feature 1\", size=13);\n",
    "plt.ylabel(\"Feature 2\", size=13);\n",
    "plt.grid();"
   ]
  },
  {
   "cell_type": "markdown",
   "metadata": {
    "deletable": false,
    "editable": false,
    "nbgrader": {
     "checksum": "b63932aa54ab2189aec9b55543c93c8a",
     "grade": false,
     "grade_id": "cell-af8fd1a81a6e6b97",
     "locked": true,
     "schema_version": 1,
     "solution": false
    },
    "pycharm": {
     "name": "#%% md\n"
    }
   },
   "source": [
    "## Build a Spam Email Classifier - Project 2 (Gradient Descent)\n",
    "\n",
    "In the last project, you implemented the `sigmoid`, `y_pred` for $P(y_i = 1 | \\mathbf{x}_i ; \\mathbf{w}, b)$, and `log_loss` for negative log likelihood functions. In this project, you will use them to finish your logistic regression classifier. For the classifier, you will implement the gradient and a \"training\" function that does gradient descent.\n",
    "\n",
    "### Part One: Compute Gradient [Graded]\n",
    "\n",
    "First, verify that the gradient of the log-loss with respect to the weight vector is:\n",
    "$$\n",
    "\\frac{\\partial NLL(\\mathbf{X},\\mathbf{y},\\mathbf{w}, b)}{\\partial \\mathbf{w}}=\\sum_{i=1}^n -y_i \\sigma \\left( -y_i \\left( \\mathbf{w}^\\top\\mathbf{x}_i + b \\right) \\right) \\mathbf{x}_i\n",
    "$$\n",
    "\n",
    "$$\n",
    "\\frac{\\partial NLL(\\mathbf{X},\\mathbf{y},\\mathbf{w}, b)}{\\partial b}=\\sum_{i=1}^n - y_i \\sigma \\left(-y_i \\left( \\mathbf{w}^\\top\\mathbf{x}_i + b \\right) \\right)\n",
    "$$\n",
    "\n",
    "Implement the function **`gradient`**, which returns the first derivative with respect to `w, b` given `X, y, w, b`. You have access to `sigmoid_grader` function that returns $\\sigma(z)$.\n",
    "\n",
    "<hr>\n",
    "\n",
    "Recall how we got the expressions for the gradient:\n",
    "$$\n",
    "\\frac{\\partial NLL}{\\partial \\mathbf{w}} = - \\frac{\\partial \\left[ \\sum_{i=1}^n \\log \\sigma \\left( y_i \\left(\\mathbf{w}^\\top \\mathbf{x}_i + b \\right) \\right) \\right]}{\\partial \\mathbf{w}}\n",
    "= - \\sum_{i=1}^n \\frac{\\partial \\left[ \\log \\sigma \\left( y_i \\left(\\mathbf{w}^\\top \\mathbf{x}_i + b \\right) \\right) \\right]}{\\partial \\mathbf{w}}\n",
    "= - \\sum_{i=1}^n \\frac{1}{\\sigma \\left( y_i \\left( \\mathbf{w}^\\top \\mathbf{x}_i + b \\right) \\right)}  \\frac{\\partial \\left[ \\sigma \\left( y_i \\left(\\mathbf{w}^\\top \\mathbf{x}_i + b \\right) \\right) \\right]}{\\partial \\mathbf{w}}\n",
    "= - \\sum_{i=1}^n \\frac{\\sigma' \\left( y_i \\left( \\mathbf{w}^\\top \\mathbf{x}_i + b \\right) \\right)}{\\sigma \\left( y_i \\left( \\mathbf{w}^\\top \\mathbf{x}_i + b \\right) \\right)} \\cdot y_i \\mathbf{x}_i.\n",
    "$$\n",
    "\n",
    "Since we know that $\\sigma'(z)=\\sigma(z)(1-\\sigma(z))$ and that $1-\\sigma(z) = \\sigma(-z)$, our expression finally becomes:\n",
    "$$\n",
    "\\frac{\\partial NLL}{\\partial \\mathbf{w}} = - \\sum_{i=1}^n \\sigma \\left( - y_i \\left( \\mathbf{w}^\\top \\mathbf{x}_i + b \\right) \\right) \\cdot y_i \\mathbf{x}_i.\n",
    "$$\n",
    "\n",
    "You can similarly derive the gradient w.r.t. $b$ as an exercise."
   ]
  },
  {
   "cell_type": "code",
   "execution_count": null,
   "metadata": {
    "deletable": false,
    "nbgrader": {
     "checksum": "a35159043467135b8fb90300f05a93cb",
     "grade": false,
     "grade_id": "cell-gradient",
     "locked": false,
     "schema_version": 1,
     "solution": true
    },
    "pycharm": {
     "name": "#%%\n"
    }
   },
   "outputs": [],
   "source": [
    "def gradient(X, y, w, b):\n",
    "    '''\n",
    "    Calculates the gradients of NLL w.r.t. w and b and returns (w_grad, bgrad).\n",
    "    \n",
    "    Input:\n",
    "        X: data matrix of shape nxd\n",
    "        y: n-dimensional vector of labels (+1 or -1)\n",
    "        w: d-dimensional weight vector\n",
    "        b: scalar bias term\n",
    "    \n",
    "    Output:\n",
    "        wgrad: d-dimensional vector (gradient vector of w)\n",
    "        bgrad: a scalar (gradient of b)\n",
    "    '''    \n",
    "    n, d = X.shape\n",
    "    wgrad = np.zeros(d)\n",
    "    bgrad = 0.0\n",
    "    # YOUR CODE HERE\n",
    "    # modify X and w such that b is part of vector w\n",
    "    X_mod = np.hstack((X, np.ones((n, 1)))) # n x (d+1)\n",
    "    w_mod = np.hstack((w, b)).reshape(1, -1) # 1 x (d+1)\n",
    "    # compute gradient\n",
    "    wX = np.dot(w_mod, X_mod.T)\n",
    "    z = (-1) * np.multiply(y, wX)\n",
    "    sigmoid_z = sigmoid_grader(z)\n",
    "    YX = np.multiply(np.tile(y.reshape(-1, 1), (1, d+1)), X_mod)\n",
    "    ll = np.multiply(np.tile(sigmoid_z.reshape(-1, 1), (1,d+1)), YX)\n",
    "    grad_w_mod = np.sum(ll, axis=0) * (-1)\n",
    "    wgrad = grad_w_mod[:-1]\n",
    "    bgrad = grad_w_mod[-1]\n",
    "    return wgrad, bgrad"
   ]
  },
  {
   "cell_type": "code",
   "execution_count": null,
   "metadata": {
    "deletable": false,
    "editable": false,
    "nbgrader": {
     "checksum": "d828e5a13e26c6b2bdc985681c159756",
     "grade": false,
     "grade_id": "cell-gradient-selftest",
     "locked": true,
     "schema_version": 1,
     "solution": false
    },
    "pycharm": {
     "name": "#%%\n"
    }
   },
   "outputs": [],
   "source": [
    "def test_grad1():\n",
    "    X = np.random.rand(25,5) # generate n random vectors with d dimensions\n",
    "    w = np.random.rand(5) # define a random weight vector\n",
    "    b = np.random.rand(1) # define a bias\n",
    "    y = (np.random.rand(25)>0.5)*2-1 # set labels all-(+1)\n",
    "    wgrad, bgrad = gradient(X, y, w, b) # compute the gradient using your function\n",
    "    \n",
    "    return wgrad.shape == w.shape and np.isscalar(bgrad)\n",
    "\n",
    "\n",
    "def test_grad2():\n",
    "    X = np.random.rand(25,5) # generate n random vectors with d dimensions\n",
    "    w = np.random.rand(5) # define a random weight vector\n",
    "    b = np.random.rand(1) # define a bias\n",
    "    y = (np.random.rand(25)>0.5)*2-1 # set labels all-(+1)\n",
    "    wgrad, bgrad = gradient(X, y, w, b) # compute the gradient using your function\n",
    "    wgrad2, bgrad2 = gradient_grader(X, y, w, b) # compute the gradient using ground truth\n",
    "    return np.linalg.norm(wgrad - wgrad2)<1e-06 and np.linalg.norm(bgrad - bgrad2) < 1e-06 # test if they match\n",
    "\n",
    "def test_grad3():\n",
    "    X = np.random.rand(25,5) # generate n random vectors with d dimensions\n",
    "    y = (np.random.rand(25)>0.5)*2-1 # set labels all-(+1)\n",
    "    w = np.random.rand(5) # define a random weight vector\n",
    "    b = np.random.rand(1) \n",
    "\n",
    "    w_s = np.random.rand(5)*1e-05 # define tiny random step \n",
    "    b_s = np.random.rand(1)*1e-05 # define tiny random step \n",
    "    ll1 = log_loss_grader(X,y,w+w_s, b+b_s)  # compute log-likelihood after taking a step\n",
    "    \n",
    "    ll = log_loss_grader(X,y,w,b) # use Taylor's expansion to approximate new loss with gradient\n",
    "    wgrad, bgrad = gradient(X,y,w,b) # compute gradient\n",
    "    ll2 = ll+ wgrad@w_s + bgrad*b_s # take linear step with Taylor's approximation\n",
    "    return np.linalg.norm(ll1-ll2)<1e-05 # test if they match\n",
    "\n",
    "def test_grad4():\n",
    "    w1, b1, losses1 = logistic_regression_grader(features, labels, 1000, 1e-03, gradient)\n",
    "    w2, b2, losses2 = logistic_regression_grader(features, labels, 1000, 1e-03)\n",
    "    return(np.abs(losses1[-1]-losses2[-1])<0.1)\n",
    "\n",
    "runtest(test_grad1, 'test_grad1')\n",
    "runtest(test_grad2, 'test_grad2')\n",
    "runtest(test_grad3, 'test_grad3')\n",
    "runtest(test_grad4, 'test_grad4')"
   ]
  },
  {
   "cell_type": "code",
   "execution_count": null,
   "metadata": {
    "deletable": false,
    "editable": false,
    "nbgrader": {
     "checksum": "6a65d0d5ac8f4fb3d76673b13277a75c",
     "grade": true,
     "grade_id": "cell-test_grad1",
     "locked": true,
     "points": 1,
     "schema_version": 1,
     "solution": false
    },
    "pycharm": {
     "name": "#%%\n"
    }
   },
   "outputs": [],
   "source": [
    "# Autograder test cell - worth 1 point\n",
    "# runs test_grad 1"
   ]
  },
  {
   "cell_type": "code",
   "execution_count": null,
   "metadata": {
    "deletable": false,
    "editable": false,
    "nbgrader": {
     "checksum": "b54c2102509225cc59175ada9de36024",
     "grade": true,
     "grade_id": "cell-test_grad2",
     "locked": true,
     "points": 1,
     "schema_version": 1,
     "solution": false
    },
    "pycharm": {
     "name": "#%%\n"
    }
   },
   "outputs": [],
   "source": [
    "# Autograder test cell - worth 1 point\n",
    "# runs test_grad2"
   ]
  },
  {
   "cell_type": "code",
   "execution_count": null,
   "metadata": {
    "deletable": false,
    "editable": false,
    "nbgrader": {
     "checksum": "fcb77c54e8d061fa570c0c69936c0c46",
     "grade": true,
     "grade_id": "cell-test_grad3",
     "locked": true,
     "points": 1,
     "schema_version": 1,
     "solution": false
    },
    "pycharm": {
     "name": "#%%\n"
    }
   },
   "outputs": [],
   "source": [
    "# Autograder test cell - worth 1 point\n",
    "# runs test_grad3"
   ]
  },
  {
   "cell_type": "code",
   "execution_count": null,
   "metadata": {
    "deletable": false,
    "editable": false,
    "nbgrader": {
     "checksum": "a39ecf9324feac46bd58796f61664a3f",
     "grade": true,
     "grade_id": "cell-test_grad4",
     "locked": true,
     "points": 1,
     "schema_version": 1,
     "solution": false
    },
    "pycharm": {
     "name": "#%%\n"
    }
   },
   "outputs": [],
   "source": [
    "# Autograder test cell - worth 1 point\n",
    "# runs test_grad4"
   ]
  },
  {
   "cell_type": "markdown",
   "metadata": {
    "deletable": false,
    "editable": false,
    "nbgrader": {
     "checksum": "ab261c0722c605ca40a4cdde5d40a4bf",
     "grade": false,
     "grade_id": "cell-692e12ddff9a0aaa",
     "locked": true,
     "schema_version": 1,
     "solution": false
    },
    "pycharm": {
     "name": "#%% md\n"
    }
   },
   "source": [
    "### Part Two: Weight Update of Gradient Ascent [Graded]\n",
    "\n",
    "Implement **`logistic_regression`** to train your classifier using gradient descent with learning rate `alpha` for `max_iter` iterations. You have access to `gradient(X, y, w, b)` and `log_loss_grader(X, y, w, b)` functions. `gradient` returns `wgrad, bgrad` and `log_loss_grader` returns `nll` scalar. Please use a **constant** learning rate `alpha` throughout (i.e. do not decrease the learning rate).\n",
    "\n",
    "The idea here is to iteratively update `w` and `b`:\n",
    "\n",
    "<center><img src=\"logistic_regression_pseudocode.png\" width=\"75%\" /></center>"
   ]
  },
  {
   "cell_type": "code",
   "execution_count": null,
   "metadata": {
    "deletable": false,
    "nbgrader": {
     "checksum": "b6c3ac076927cb55a70042fb524609ab",
     "grade": false,
     "grade_id": "cell-logistic_regression",
     "locked": false,
     "schema_version": 1,
     "solution": true
    },
    "pycharm": {
     "name": "#%%\n"
    }
   },
   "outputs": [],
   "source": [
    "def logistic_regression(X, y, max_iter, alpha):\n",
    "    '''\n",
    "    Trains the logistic regression classifier on data X and labels y using gradient descent for max_iter iterations with learning rate alpha.\n",
    "    Returns the weight vector, bias term, and losses at each iteration AFTER updating the weight vector and bias.\n",
    "    \n",
    "    Input:\n",
    "        X: data matrix of shape nxd\n",
    "        y: n-dimensional vector of data labels (+1 or -1)\n",
    "        max_iter: number of iterations of gradient descent to perform\n",
    "        alpha: learning rate for each gradient descent step\n",
    "        \n",
    "    Output:\n",
    "        w, b, losses\n",
    "        w: d-dimensional weight vector\n",
    "        b: scalar bias term\n",
    "        losses: max_iter-dimensional vector containing negative log likelihood values AFTER a gradient descent in each iteration\n",
    "    '''\n",
    "    n, d = X.shape\n",
    "    w = np.zeros(d)\n",
    "    b = 0.0\n",
    "    losses = np.zeros(max_iter) \n",
    "   # YOUR CODE HERE\n",
    "    for step in range(max_iter):\n",
    "        # get gradient for w and b\n",
    "        w_grad, b_grad = gradient(X, y, w, b)\n",
    "        # update w and b\n",
    "        w += w_grad * alpha * (-1)\n",
    "        b += b_grad * alpha * (-1)\n",
    "        # calculate current loss\n",
    "        losses[step] = log_loss_grader(X, y, w, b)\n",
    "        \n",
    "    return w, b, losses\n",
    "\n"
   ]
  },
  {
   "cell_type": "code",
   "execution_count": null,
   "metadata": {
    "deletable": false,
    "editable": false,
    "nbgrader": {
     "checksum": "fbc79dc200cf1b5aa8d56bb54d7efc8b",
     "grade": false,
     "grade_id": "cell-logistic_regression-selftest",
     "locked": true,
     "schema_version": 1,
     "solution": false
    },
    "pycharm": {
     "name": "#%%\n"
    }
   },
   "outputs": [],
   "source": [
    "def test_logistic_regression1():\n",
    "\n",
    "    XUnit = np.array([[-1,1],[-1,0],[0,-1],[-1,2],[1,-2],[1,-1],[1,0],[0,1],[1,-2],[-1,2]])\n",
    "    YUnit = np.hstack((np.ones(5), -np.ones(5)))\n",
    "\n",
    "    w1, b1, _ = logistic_regression(XUnit, YUnit, 30000, 5e-5)\n",
    "    w2, b2, _ = logistic_regression_grader(XUnit, YUnit, 30000, 5e-5)\n",
    "    return (np.linalg.norm(w1 - w2) < 1e-5) and (np.linalg.norm(b1 - b2) < 1e-5)\n",
    "\n",
    "def test_logistic_regression2():\n",
    "    X = np.vstack((np.random.randn(50, 5), np.random.randn(50, 5) + 2))\n",
    "    Y = np.hstack((np.ones(50), -np.ones(50)))\n",
    "    max_iter = 300\n",
    "    alpha = 1e-5\n",
    "    w1, b1, _ = logistic_regression(X, Y, max_iter, alpha)\n",
    "    w2, b2, _ = logistic_regression_grader(X, Y, max_iter, alpha)\n",
    "    return (np.linalg.norm(w1 - w2) < 1e-5) and (np.linalg.norm(b1 - b2) < 1e-5)\n",
    "\n",
    "def test_logistic_regression3(): # check if losses match predictions\n",
    "    X = np.vstack((np.random.randn(50, 5), np.random.randn(50, 5) + 2))\n",
    "    Y = np.hstack((np.ones(50), -np.ones(50)))\n",
    "    max_iter = 30\n",
    "    alpha = 1e-5\n",
    "    w1, b1, losses1 = logistic_regression(X, Y, max_iter, alpha)\n",
    "    return np.abs(log_loss_grader(X,Y,w1,b1)-losses1[-1])<1e-09\n",
    "\n",
    "def test_logistic_regression4(): # check if loss decreases\n",
    "    X = np.vstack((np.random.randn(50, 5), np.random.randn(50, 5) + 2))\n",
    "    Y = np.hstack((np.ones(50), -np.ones(50)))\n",
    "    max_iter = 30\n",
    "    alpha = 1e-5\n",
    "    w1, b1, losses = logistic_regression(X, Y, max_iter, alpha)\n",
    "    return losses[-1]<losses[0]\n",
    "\n",
    "runtest(test_logistic_regression1, 'test_logistic_regression1')\n",
    "runtest(test_logistic_regression2, 'test_logistic_regression2')\n",
    "runtest(test_logistic_regression3, 'test_logistic_regression3')\n",
    "runtest(test_logistic_regression4, 'test_logistic_regression4')"
   ]
  },
  {
   "cell_type": "code",
   "execution_count": null,
   "metadata": {
    "deletable": false,
    "editable": false,
    "nbgrader": {
     "checksum": "1da66ad57643bb33e602bba1fb9f02db",
     "grade": true,
     "grade_id": "cell-test_logistic_regression1",
     "locked": true,
     "points": 1,
     "schema_version": 1,
     "solution": false
    },
    "pycharm": {
     "name": "#%%\n"
    }
   },
   "outputs": [],
   "source": [
    "# Autograder test cell - worth 1 point\n",
    "# runs test_logistic_regression1"
   ]
  },
  {
   "cell_type": "code",
   "execution_count": null,
   "metadata": {
    "deletable": false,
    "editable": false,
    "nbgrader": {
     "checksum": "ef3118adb13964202aeb8f3b5f6f2a6c",
     "grade": true,
     "grade_id": "cell-test_logistic_regression_2",
     "locked": true,
     "points": 1,
     "schema_version": 1,
     "solution": false
    },
    "pycharm": {
     "name": "#%%\n"
    }
   },
   "outputs": [],
   "source": [
    "# Autograder test cell - worth 1 point\n",
    "# runs test_logistic_regression2"
   ]
  },
  {
   "cell_type": "code",
   "execution_count": null,
   "metadata": {
    "deletable": false,
    "editable": false,
    "nbgrader": {
     "checksum": "5ad9cce2aa46fe028b34e7e7d4f15b11",
     "grade": true,
     "grade_id": "cell-test_logistic_regression_3",
     "locked": true,
     "points": 1,
     "schema_version": 1,
     "solution": false
    },
    "pycharm": {
     "name": "#%%\n"
    }
   },
   "outputs": [],
   "source": [
    "# Autograder test cell - worth 1 point\n",
    "# runs test_logistic_regression3"
   ]
  },
  {
   "cell_type": "code",
   "execution_count": null,
   "metadata": {
    "deletable": false,
    "editable": false,
    "nbgrader": {
     "checksum": "b560d7904efc4a4c98a9b0f7b541142c",
     "grade": true,
     "grade_id": "cell-test_logistic_regression_4",
     "locked": true,
     "points": 1,
     "schema_version": 1,
     "solution": false
    },
    "pycharm": {
     "name": "#%%\n"
    }
   },
   "outputs": [],
   "source": [
    "# Autograder test cell - worth 1 point\n",
    "# runs test_logistic_regression4"
   ]
  },
  {
   "cell_type": "markdown",
   "metadata": {
    "deletable": false,
    "editable": false,
    "nbgrader": {
     "checksum": "c391779da82062131dc1e81525dc67a7",
     "grade": false,
     "grade_id": "cell-f874275c305249ec",
     "locked": true,
     "schema_version": 1,
     "solution": false
    },
    "pycharm": {
     "name": "#%% md\n"
    }
   },
   "source": [
    "Now run your implementation on the artificial data from the top of the notebook.  Check your code by plotting the values of the negative log likelihood - should these values increase or decrease as the number of iterations grows? Do your values move in the right direction?\n",
    "\n",
    "You can tune `max_iter` and `alpha` to see how they affect convergence!  "
   ]
  },
  {
   "cell_type": "code",
   "execution_count": null,
   "metadata": {
    "deletable": false,
    "editable": false,
    "nbgrader": {
     "checksum": "8ce54c9a77d6573ed715bad7da6d4ec0",
     "grade": false,
     "grade_id": "cell-a8f0e2256f9dc7a7",
     "locked": true,
     "schema_version": 1,
     "solution": false
    },
    "pycharm": {
     "name": "#%%\n"
    }
   },
   "outputs": [],
   "source": [
    "max_iter = 10000\n",
    "alpha = 1e-4\n",
    "final_w, final_b, losses = logistic_regression(features, labels, max_iter, alpha)\n",
    "\n",
    "plt.figure(figsize=(9, 6))\n",
    "plt.plot(losses)\n",
    "plt.title(\"Loss vs. iteration\", size=15)\n",
    "plt.xlabel(\"Num iteration\", size=13)\n",
    "plt.ylabel(\"Loss value\", size=13)\n",
    "plt.grid()"
   ]
  },
  {
   "cell_type": "markdown",
   "metadata": {
    "deletable": false,
    "editable": false,
    "nbgrader": {
     "checksum": "d8cb998259b985f85e79a69f1c242dfa",
     "grade": false,
     "grade_id": "cell-334b2b1ff6a97606",
     "locked": true,
     "schema_version": 1,
     "solution": false
    },
    "pycharm": {
     "name": "#%% md\n"
    }
   },
   "source": [
    "Below, we'll take the final weights from the logistic solver and predict labels for the entire dataset.  By plotting the results, we can get a sense of where the linear decision boundary lies.\n",
    "\n",
    "What do you notice? What could be changed to further improve the accuracy of the classifier? (_Hint: take a look at the second video in Module 1._)"
   ]
  },
  {
   "cell_type": "code",
   "execution_count": null,
   "metadata": {
    "deletable": false,
    "editable": false,
    "nbgrader": {
     "checksum": "6ed3ff21f2e1a47cada94cc7b6451fff",
     "grade": false,
     "grade_id": "cell-d3c49e5cdaebdd3d",
     "locked": true,
     "schema_version": 1,
     "solution": false
    },
    "pycharm": {
     "name": "#%%\n"
    }
   },
   "outputs": [],
   "source": [
    "scores = y_pred_grader(features, final_w, final_b)\n",
    "\n",
    "pred_labels = (scores > 0.5).astype(int)\n",
    "pred_labels[pred_labels != 1] = -1\n",
    "\n",
    "plt.figure(figsize=(9, 6))\n",
    "\n",
    "# plot the decision boundary \n",
    "x = np.linspace(np.amin(features[:, 0]), np.amax(features[:, 0]), 10)\n",
    "y = -(final_w[0] * x + final_b)/ final_w[1] \n",
    "plt.plot(x, y)\n",
    "\n",
    "plt.scatter(features[:, 0], features[:, 1],\n",
    "            c=pred_labels, alpha=.6)\n",
    "plt.title(\"Predicted labels\", size=15)\n",
    "plt.xlabel(\"Feature 1\", size=13)\n",
    "plt.ylabel(\"Feature 2\", size=13)\n",
    "plt.axis([-3, 10,0,15])"
   ]
  },
  {
   "cell_type": "code",
   "execution_count": null,
   "metadata": {
    "pycharm": {
     "name": "#%%\n"
    }
   },
   "outputs": [],
   "source": []
  }
 ],
 "metadata": {
  "kernelspec": {
   "display_name": "Python 3",
   "language": "python",
   "name": "python3"
  },
  "language_info": {
   "codemirror_mode": {
    "name": "ipython",
    "version": 3
   },
   "file_extension": ".py",
   "mimetype": "text/x-python",
   "name": "python",
   "nbconvert_exporter": "python",
   "pygments_lexer": "ipython3",
   "version": "3.6.8"
  }
 },
 "nbformat": 4,
 "nbformat_minor": 4
}