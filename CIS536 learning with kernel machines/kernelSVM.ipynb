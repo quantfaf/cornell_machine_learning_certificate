{
 "cells": [
  {
   "cell_type": "markdown",
   "metadata": {
    "deletable": false,
    "editable": false,
    "nbgrader": {
     "checksum": "34d5b2d4ea2f6f8e5416f6641c6b7cdf",
     "grade": false,
     "grade_id": "cell-4b701dc3a4f35e70",
     "locked": true,
     "schema_version": 1,
     "solution": false
    },
    "pycharm": {
     "name": "#%% md\n"
    }
   },
   "source": [
    "<h2>About this Project</h2>\n",
    "<p>In this project, you will implement a kernelized SVM. You will generate linearly separable and non-linearly separable datasets, write kernel, loss, and gradient functions for SVMs that support a variety of different kernels, and then visualize the decision boundary created.</p>\n",
    "\n",
    "<h3>Evaluation</h3>\n",
    "\n",
    "<p><strong>This project must be successfully completed and submitted in order to receive credit for this course. Your score on this project will be included in your final grade calculation.</strong><p>\n",
    "    \n",
    "<p>You are expected to write code where you see <em># YOUR CODE HERE</em> within the cells of this notebook. Not all cells will be graded; code input cells followed by cells marked with <em>#Autograder test cell</em> will be graded. Upon submitting your work, the code you write at these designated positions will be assessed using an \"autograder\" that will run all test cells to assess your code. You will receive feedback from the autograder that will identify any errors in your code. Use this feedback to improve your code if you need to resubmit. Be sure not to change the names of any provided functions, classes, or variables within the existing code cells, as this will interfere with the autograder. Also, remember to execute all code cells sequentially, not just those you’ve edited, to ensure your code runs properly.</p>\n",
    "    \n",
    "<p>You can resubmit your work as many times as necessary before the submission deadline. If you experience difficulty or have questions about this exercise, use the Q&A discussion board to engage with your peers or seek assistance from the instructor.<p>\n",
    "\n",
    "<p>Before starting your work, please review <a href=\"https://s3.amazonaws.com/ecornell/global/eCornellPlagiarismPolicy.pdf\">eCornell's policy regarding plagiarism</a> (the presentation of someone else's work as your own without source credit).</p>\n",
    "\n",
    "<h3>Submit Code for Autograder Feedback</h3>\n",
    "\n",
    "<p>Once you have completed your work on this notebook, you will submit your code for autograder review. Follow these steps:</p>\n",
    "\n",
    "<ol>\n",
    "  <li><strong>Save your notebook.</strong></li>\n",
    "  <li><strong>Mark as Completed —</strong> In the blue menu bar along the top of this code exercise window, you’ll see a menu item called <strong>Education</strong>. In the <strong>Education</strong> menu, click <strong>Mark as Completed</strong> to submit your code for autograder/instructor review. This process will take a moment and a progress bar will show you the status of your submission.</li>\n",
    "\t<li><strong>Review your results —</strong> Once your work is marked as complete, the results of the autograder will automatically be presented in a new tab within the code exercise window. You can click on the assessment name in this feedback window to see more details regarding specific feedback/errors in your code submission.</li>\n",
    "  <li><strong>Repeat, if necessary —</strong> The Jupyter notebook will always remain accessible in the first tabbed window of the exercise. To reattempt the work, you will first need to click <strong>Mark as Uncompleted</strong> in the <strong>Education</strong> menu and then proceed to make edits to the notebook. Once you are ready to resubmit, follow steps one through three. You can repeat this procedure as many times as necessary.</li>\n",
    "<p>You can also download a copy of this notebook in multiple formats using the <strong>Download as</strong> option in the <strong>File</strong> menu above.</p>"
   ]
  },
  {
   "cell_type": "markdown",
   "metadata": {
    "deletable": false,
    "editable": false,
    "nbgrader": {
     "checksum": "ff9bcc68e530d02a3fcd7602643867f3",
     "grade": false,
     "grade_id": "cell-eae09070d6ddfc3f",
     "locked": true,
     "schema_version": 1,
     "solution": false
    },
    "pycharm": {
     "name": "#%% md\n"
    }
   },
   "source": [
    "<h2>Getting Started</h2>\n",
    "<h3>Python Initialization</h3> \n",
    "\n",
    "Please run the following code to initialize your Python kernel. You should be running a version of Python 3.x. </p>"
   ]
  },
  {
   "cell_type": "code",
   "execution_count": null,
   "metadata": {
    "deletable": false,
    "editable": false,
    "nbgrader": {
     "checksum": "30ea34e09ce2fe95d9ffdd861a036f3e",
     "grade": false,
     "grade_id": "cell-6da27a81ca807569",
     "locked": true,
     "schema_version": 1,
     "solution": false
    },
    "pycharm": {
     "name": "#%%\n"
    }
   },
   "outputs": [],
   "source": [
    "import numpy as np\n",
    "from helper import *\n",
    "import matplotlib.pyplot as plt\n",
    "import sys\n",
    "\n",
    "print('You\\'re running python %s' % sys.version.split(' ')[0])"
   ]
  },
  {
   "cell_type": "markdown",
   "metadata": {
    "deletable": false,
    "editable": false,
    "nbgrader": {
     "checksum": "df85ab06febb88b65c6c77c8f2bcef49",
     "grade": false,
     "grade_id": "cell-38378dba31605ea0",
     "locked": true,
     "schema_version": 1,
     "solution": false
    },
    "pycharm": {
     "name": "#%% md\n"
    }
   },
   "source": [
    "### Generate and Visualize Data\n",
    "\n",
    "Before we start, let's generate some data and visualize the training set. We are going to use the linearly separable data that we used in our previous project!"
   ]
  },
  {
   "cell_type": "code",
   "execution_count": null,
   "metadata": {
    "pycharm": {
     "name": "#%%\n"
    }
   },
   "outputs": [],
   "source": [
    "%matplotlib inline\n",
    "xTr,yTr = generate_data()\n",
    "visualize_2D(xTr, yTr)"
   ]
  },
  {
   "cell_type": "markdown",
   "metadata": {
    "deletable": false,
    "editable": false,
    "nbgrader": {
     "checksum": "5a5f4cbc111f74157ce0ba738b8626e8",
     "grade": false,
     "grade_id": "cell-cf03c1184a70b0d9",
     "locked": true,
     "schema_version": 1,
     "solution": false
    },
    "pycharm": {
     "name": "#%% md\n"
    }
   },
   "source": [
    "## Kernel SVM\n",
    "\n",
    "In this assignment, you need to implement three functions:\n",
    "1. `computeK` that computes the kernel function efficiently,\n",
    "2. `loss` that calculates the kernelized version of the unconstrained squared hinge loss and the regularizer, and\n",
    "3. `grad` that calculates the gradients of the loss with respect to the kernel SVM's model parameters."
   ]
  },
  {
   "cell_type": "markdown",
   "metadata": {
    "deletable": false,
    "editable": false,
    "nbgrader": {
     "checksum": "a4febfd5340b31a5702c0f88e0614651",
     "grade": false,
     "grade_id": "cell-8b5ccbfcfd7f1d35",
     "locked": true,
     "schema_version": 1,
     "solution": false
    },
    "pycharm": {
     "name": "#%% md\n"
    }
   },
   "source": [
    "### Part One: Compute K [Graded]\n",
    "\n",
    "In **`computeK`**, calculate the values of different kernel functions given inputs `X` and `Z`. You will return a matrix $\\mathsf{K}$ such that the entry $\\mathsf{K}_{ij} = \\mathsf{K} \\left( \\mathbf{x}_i, \\mathbf{z}_j \\right)$ where $\\mathsf{K} \\left( \\mathbf{x}_i, \\mathbf{z}_j \\right) = \\phi \\left( \\mathbf{x}_i \\right)^\\top \\phi \\left(\\mathbf{z}_j \\right)$. As you have seen so far, computing $\\phi \\left(\\mathbf{x}_i \\right)$ and $\\phi \\left(\\mathbf{z}_j \\right)$ explicitly and taking the dot product can be computationally expensive. Consequently, we will use the dot product expression $\\mathsf{K} \\left( \\mathbf{x}_i, \\mathbf{z}_j \\right)$ without ever computing $\\phi \\left(\\mathbf{x}_i \\right)$ and $ \\phi \\left(\\mathbf{z}_j \\right)$.\n",
    "\n",
    "`computeK` takes in the parameter `kerneltype` to decide which of the three different kernel functions to calculate:\n",
    "- `kerneltype == 'linear'`: $\\mathsf{K} (\\mathbf{X}, \\mathbf{Z}) = \\mathbf{X}^\\top \\mathbf{Z}$\n",
    "- `kerneltype == 'polynomial'`: $\\mathsf{K} (\\mathbf{X}, \\mathbf{Z}) = \\left( 1 + \\mathbf{X}^\\top \\mathbf{Z} \\right)^{p}$ where `kpar = p`\n",
    "- `kerneltype == 'rbf'`: $\\mathsf{K} (\\mathbf{X}, \\mathbf{Z}) = e^{-\\frac{||\\mathbf{X}-\\mathbf{Z}||^2}{\\sigma^2}}$ where `kpar` = $\\frac{1}{\\sigma^2}$\n",
    "\n",
    "**Implementation Notes:**\n",
    "- When calculating the RBF kernel, you can use the `l2distance(X, Z)` function that we have provided to you. It calculates the pairwise L2 distance $||\\mathbf{X} - \\mathbf{Z}||$ efficiently.\n",
    "- [`np.power(a, p)`](https://numpy.org/doc/stable/reference/generated/numpy.power.html) raises all entries of the vector or matrix `a` to the power `p`."
   ]
  },
  {
   "cell_type": "code",
   "execution_count": null,
   "metadata": {
    "deletable": false,
    "nbgrader": {
     "checksum": "cd862b5b6d35a8d6de551501fa15ac8a",
     "grade": false,
     "grade_id": "cell-computeK",
     "locked": false,
     "schema_version": 1,
     "solution": true
    },
    "pycharm": {
     "name": "#%%\n"
    }
   },
   "outputs": [],
   "source": [
    "def computeK(kerneltype, X, Z, kpar=1):\n",
    "    \"\"\"\n",
    "    Computes a matrix K such that K[i, j] = K(x_i, z_j). The kernel operation is defined by kerneltype with parameter kpar.\n",
    "\n",
    "    Input:\n",
    "        kerneltype: either of ['linear', 'polynomial', 'rbf']\n",
    "        X: nxd data matrix\n",
    "        Z: mxd data matrix\n",
    "        kpar: kernel parameter (inverse sigma^2 in case of 'rbf', degree p in case of 'polynomial')\n",
    "\n",
    "    Output:\n",
    "        K : nxm kernel matrix\n",
    "    \"\"\"\n",
    "    assert kerneltype in ['linear', 'polynomial', 'rbf'], 'Kernel type %s not known.' % kerneltype\n",
    "    assert X.shape[1] == Z.shape[1], 'Input dimensions do not match'\n",
    "\n",
    "    K = None\n",
    "\n",
    "    # YOUR CODE HERE\n",
    "    if kerneltype == 'linear':\n",
    "        K = np.dot(X, Z.T)\n",
    "    elif kerneltype == 'polynomial':\n",
    "        K = np.power((1 + np.dot(X, Z.T)), kpar)\n",
    "    elif kerneltype == 'rbf':\n",
    "        K = np.exp(- kpar * np.square(l2distance(X, Z)))\n",
    "    else: \n",
    "        ValueError(f\"I do not know {kerneltype}.\")\n",
    "                    \n",
    "    return K"
   ]
  },
  {
   "cell_type": "code",
   "execution_count": null,
   "metadata": {
    "deletable": false,
    "editable": false,
    "nbgrader": {
     "checksum": "215dbae26b9ab343625160fa984b718d",
     "grade": false,
     "grade_id": "cell-computeK-selftest",
     "locked": true,
     "schema_version": 1,
     "solution": false
    },
    "pycharm": {
     "name": "#%%\n"
    }
   },
   "outputs": [],
   "source": [
    "# These tests test whether your computeK() is implemented correctly\n",
    "\n",
    "xTr_test, yTr_test = generate_data(100)\n",
    "xTr_test2, yTr_test2 = generate_data(50)\n",
    "n, d = xTr_test.shape\n",
    "\n",
    "# Checks whether computeK compute the kernel matrix with the right dimension\n",
    "def computeK_test1():\n",
    "    s1 = (computeK('rbf', xTr_test, xTr_test2, kpar=1).shape == (100, 50))\n",
    "    s2 = (computeK('polynomial', xTr_test, xTr_test2, kpar=1).shape == (100, 50))\n",
    "    s3 = (computeK('linear', xTr_test, xTr_test2, kpar=1).shape == (100, 50))\n",
    "    return (s1 and s2 and s3)\n",
    "\n",
    "# Checks whether the kernel matrix is symmetric\n",
    "def computeK_test2():\n",
    "    k_rbf = computeK('rbf', xTr_test, xTr_test, kpar=1)\n",
    "    s1 = np.allclose(k_rbf, k_rbf.T)\n",
    "    k_poly = computeK('polynomial', xTr_test, xTr_test, kpar=1)\n",
    "    s2 = np.allclose(k_poly, k_poly.T)\n",
    "    k_linear = computeK('linear', xTr_test, xTr_test, kpar=1)\n",
    "    s3 = np.allclose(k_linear, k_linear.T)\n",
    "    return (s1 and s2 and s3)\n",
    "\n",
    "# Checks whether the kernel matrix is positive semi-definite\n",
    "def computeK_test3():\n",
    "    k_rbf = computeK('rbf', xTr_test2, xTr_test2, kpar=1)\n",
    "    eigen_rbf = np.linalg.eigvals(k_rbf)\n",
    "    eigen_rbf[np.isclose(eigen_rbf, 0)] = 0\n",
    "    s1 = np.all(eigen_rbf >= 0)\n",
    "    k_poly = computeK('polynomial', xTr_test2, xTr_test2, kpar=1)\n",
    "    eigen_poly = np.linalg.eigvals(k_poly)\n",
    "    eigen_poly[np.isclose(eigen_poly, 0)] = 0\n",
    "    s2 = np.all(eigen_poly >= 0)\n",
    "    k_linear = computeK('linear', xTr_test2, xTr_test2, kpar=1)\n",
    "    eigen_linear = np.linalg.eigvals(k_linear)\n",
    "    eigen_linear[np.isclose(eigen_linear, 0)] = 0\n",
    "    s3 = np.all(eigen_linear >= 0)\n",
    "    return (s1 and s2 and s3)\n",
    "\n",
    "# Checks whether computeK compute the right kernel matrix with rbf kernel\n",
    "def computeK_test4():\n",
    "    k = computeK('rbf', xTr_test, xTr_test2, kpar=1)\n",
    "    k2 = computeK_grader('rbf', xTr_test, xTr_test2, kpar=1)\n",
    "    \n",
    "    return np.linalg.norm(k - k2) < 1e-5\n",
    "\n",
    "# Checks whether computeK compute the right kernel matrix with polynomial kernel\n",
    "def computeK_test5():\n",
    "    k = computeK('polynomial', xTr_test, xTr_test2, kpar=1)\n",
    "    k2 = computeK_grader('polynomial', xTr_test, xTr_test2, kpar=1)\n",
    "    \n",
    "    return np.linalg.norm(k - k2) < 1e-5\n",
    "\n",
    "# Checks whether computeK compute the right kernel matrix with linear kernel\n",
    "def computeK_test6():\n",
    "    k = computeK('linear', xTr_test, xTr_test2, kpar=1)\n",
    "    k2 = computeK_grader('linear', xTr_test, xTr_test2, kpar=1)\n",
    "    \n",
    "    return np.linalg.norm(k - k2) < 1e-5\n",
    "\n",
    "\n",
    "runtest(computeK_test1, 'computeK_test1')\n",
    "runtest(computeK_test2, 'computeK_test2')\n",
    "runtest(computeK_test3, 'computeK_test3')\n",
    "runtest(computeK_test4, 'computeK_test4')\n",
    "runtest(computeK_test5, 'computeK_test5')\n",
    "runtest(computeK_test6, 'computeK_test6')"
   ]
  },
  {
   "cell_type": "code",
   "execution_count": null,
   "metadata": {
    "deletable": false,
    "editable": false,
    "nbgrader": {
     "checksum": "bd2c8ccbbecc00e7d6aad6329fd4edf3",
     "grade": true,
     "grade_id": "cell-computeK-test1",
     "locked": true,
     "points": 1,
     "schema_version": 1,
     "solution": false
    },
    "pycharm": {
     "name": "#%%\n"
    }
   },
   "outputs": [],
   "source": [
    "# Autograder test cell - worth 1 point\n",
    "# runs computeK_test1"
   ]
  },
  {
   "cell_type": "code",
   "execution_count": null,
   "metadata": {
    "deletable": false,
    "editable": false,
    "nbgrader": {
     "checksum": "90c7eea29e746c03b7c404d207953eb7",
     "grade": true,
     "grade_id": "cell-computeK-test2",
     "locked": true,
     "points": 1,
     "schema_version": 1,
     "solution": false
    },
    "pycharm": {
     "name": "#%%\n"
    }
   },
   "outputs": [],
   "source": [
    "# Autograder test cell - worth 1 point\n",
    "# runs computeK_test2"
   ]
  },
  {
   "cell_type": "code",
   "execution_count": null,
   "metadata": {
    "deletable": false,
    "editable": false,
    "nbgrader": {
     "checksum": "44c7806efdc12fc50ccc08a4a46e8a9d",
     "grade": true,
     "grade_id": "cell-computeK-test3",
     "locked": true,
     "points": 1,
     "schema_version": 1,
     "solution": false
    },
    "pycharm": {
     "name": "#%%\n"
    }
   },
   "outputs": [],
   "source": [
    "# Autograder test cell - worth 1 point\n",
    "# runs computeK_test3"
   ]
  },
  {
   "cell_type": "code",
   "execution_count": null,
   "metadata": {
    "deletable": false,
    "editable": false,
    "nbgrader": {
     "checksum": "f6eb66f21d145c4a9d9687ee4ef19569",
     "grade": true,
     "grade_id": "cell-computeK-test4",
     "locked": true,
     "points": 1,
     "schema_version": 1,
     "solution": false
    },
    "pycharm": {
     "name": "#%%\n"
    }
   },
   "outputs": [],
   "source": [
    "# Autograder test cell - worth 1 point\n",
    "# runs computeK_test4"
   ]
  },
  {
   "cell_type": "code",
   "execution_count": null,
   "metadata": {
    "deletable": false,
    "editable": false,
    "nbgrader": {
     "checksum": "ae6de714e9658eccb72624bc3d9fb153",
     "grade": true,
     "grade_id": "cell-computeK-test5",
     "locked": true,
     "points": 1,
     "schema_version": 1,
     "solution": false
    },
    "pycharm": {
     "name": "#%%\n"
    }
   },
   "outputs": [],
   "source": [
    "# Autograder test cell - worth 1 point\n",
    "# runs computeK_test5"
   ]
  },
  {
   "cell_type": "code",
   "execution_count": null,
   "metadata": {
    "deletable": false,
    "editable": false,
    "nbgrader": {
     "checksum": "9d99ad37ee48a381df2ea875e48ebf44",
     "grade": true,
     "grade_id": "cell-computeK-test6",
     "locked": true,
     "points": 1,
     "schema_version": 1,
     "solution": false
    },
    "pycharm": {
     "name": "#%%\n"
    }
   },
   "outputs": [],
   "source": [
    "# Autograder test cell - worth 1 point\n",
    "# runs computeK_test5"
   ]
  },
  {
   "cell_type": "markdown",
   "metadata": {
    "deletable": false,
    "editable": false,
    "nbgrader": {
     "checksum": "23bdb4466939ada1fb80113763e726f2",
     "grade": false,
     "grade_id": "cell-482d6338c580e4fb",
     "locked": true,
     "schema_version": 1,
     "solution": false
    },
    "pycharm": {
     "name": "#%% md\n"
    }
   },
   "source": [
    "Previously in linear SVM, we could pass in $\\mathbf{w}$ to calculate the unconstrained square hinge loss and the $l_2$-regularizer. However, for the kernelized version of the loss function, $\\mathbf{w}$ is written as a linear combination of the $n$ training examples $\\phi \\left( \\mathbf{x}_1 \\right), \\dots, \\phi \\left( \\mathbf{x}_n \\right)$ and thus we will need to pass in the coefficients in the linear combination and training points.\n",
    "\n",
    "As we will see in the following section, after substituting $\\mathbf{w}$ with a linear combination of training examples, we can simplify the kernel SVM loss function quite a bit.\n",
    "\n",
    "### Kernelized SVM Loss Function\n",
    "\n",
    "We assume a training set of $n$ examples. Recall how $\\mathbf{w}$ could be written as a linear combination of the training samples:\n",
    "$$\n",
    "    \\mathbf{w} = \\sum_{j = 1}^n \\alpha_j y_j \\phi \\left( \\mathbf{x}_j \\right) = \\sum_{j=1}^n \\beta_j \\phi \\left( \\mathbf{x}_j \\right)\n",
    "$$\n",
    "where we define new model parameters $\\beta_j = \\alpha_j y_j$ for simpler expressions going forward.\n",
    "\n",
    "Also recall the expression for the regularizer and the unconstrained squared hinge loss over any $m$ points $\\phi\\left( \\mathbf{z}_1 \\right), \\dots, \\phi \\left( \\mathbf{z}_m \\right)$. If we substitute $\\mathbf{w}$ into the loss, we get the following expression. **Observe that only the squared hinge loss is dependent on the $m$ points; the regularizer is independent.**\n",
    "$$\n",
    "    \\begin{aligned}\n",
    "    \\ell(\\mathbf{w}, b) &= \\underbrace{\\mathbf{w}^\\top \\mathbf{w}}_{l_{2} \\text{ regularizer} } +  C \\underbrace{ \\sum_{i=1}^{m} \\max \\left[ 1-y_{i} \\left( \\mathbf{w}^\\top \\phi \\left(\\mathbf{z}_i\\right) + b \\right), 0 \\right]^2}_{ \\text{squared hinge loss} }\\\\\n",
    "        &= \\left( \\sum_{j=1}^n \\beta_j \\phi \\left( \\mathbf{x}_j \\right) \\right)^\\top \\left( \\sum_{j=1}^n \\beta_j \\phi \\left( \\mathbf{x}_j \\right) \\right)\n",
    "            + C \\sum_{i=1}^m \\max \\left[ 1 - y_i \\left( \\left( \\sum_{j=1}^n \\beta_j \\phi \\left( \\mathbf{x}_j \\right) \\right)^\\top \\phi \\left( \\mathbf{z}_i \\right) + b \\right), 0 \\right]^2\\\\\n",
    "        &= \\sum_{j = 1}^n \\sum_{k = 1}^n \\beta_j \\beta_k \\phi \\left( \\mathbf{x}_j \\right)^\\top \\phi \\left( \\mathbf{x}_k \\right)\n",
    "            + C \\sum_{i=1}^{m} \\max \\left[ 1-y_{i} \\left( \\sum_{j = 1}^n \\beta_j \\phi \\left(\\mathbf{x}_j \\right)^\\top \\phi \\left(\\mathbf{z}_i \\right)+b \\right), 0 \\right]^2\n",
    "    \\end{aligned}\n",
    "$$\n",
    "\n",
    "Let us now replace all the dot product terms $\\phi(\\mathbf{a})^\\top \\phi(\\mathbf{b})$ with $\\mathsf{K}(\\mathbf{a}, \\mathbf{b})$ for all data points $\\mathbf{a}, \\mathbf{b}$.\n",
    "$$\n",
    "    \\begin{aligned}\n",
    "    \\ell\\left( \\beta_1, \\dots, \\beta_n, b \\right) = \\underbrace{\\sum_{j = 1}^n \\sum_{k = 1}^n \\beta_j \\beta_k \\mathsf{K} \\left( \\mathbf{x}_j, \\mathbf{x}_k \\right)}_{l_{2} \\text{ regularizer}}\n",
    "        + C \\underbrace{ \\sum_{i=1}^{m} \\max \\left[ 1-y_{i} \\left(\\sum_{j = 1}^n \\beta_j \\mathsf{K} \\left(\\mathbf{x}_j, \\mathbf{z}_i \\right)+b \\right), 0 \\right]^2}_{\\text{squared hinge loss}}\n",
    "    \\end{aligned}\n",
    "$$\n",
    "\n",
    "Let us pause here to observe a few facts:\n",
    "- When $\\mathbf{w}$ is written as a linear combination of the $n$ training points, the loss is then optimized over the parameters $\\beta_1, \\dots, \\beta_n, b$.\n",
    "- The $l_2$-regularizer is a dot-product of $\\mathbf{w}$ with itself. Since $\\mathbf{w}$ is a linear combination of the $n$ training points, the regularizer only depends on the dot-products between $n$ training points.\n",
    "- The loss never needs $\\phi(\\mathbf{x})$ explicitly. It only needs the dot products between data points.\n",
    "\n",
    "Now, let us move ahead and simplify the loss function to a vector form. First, we will simplify the $l_{2}$ regularizer. Define $\\mathbf{\\beta} = \\left[\\beta_1, \\dots, \\beta_n \\right]^\\top$ and $\\mathsf{K}_{nn}$ of size $n \\times n$ to be the kernel matrix calculated on the training set of $n$ points. Precisely, the entry $\\mathsf{K}_{nn}[j, k] = \\mathsf{K} \\left(\\mathbf{x}_j, \\mathbf{x}_k \\right)$. Thus, the $l_2$-regularizer can be written as the quadratic form:\n",
    "$$\n",
    "    \\sum_{j = 1}^n \\sum_{k = 1}^n \\beta_j \\beta_k \\mathsf{K} \\left(\\mathbf{x}_j, \\mathbf{x}_k \\right) = \\mathbf{\\beta}^\\top \\mathsf{K}_{nn} \\mathbf{\\beta}\n",
    "$$\n",
    "\n",
    "Similarly, we can define the kernel matrix $\\mathsf{K}_{nm}$ of size $n \\times m$, the $(j, i)^{th}$ entry is $\\mathsf{K}_{nm}[j, i] = \\mathsf{K} \\left( \\mathbf{x}_j, \\mathbf{z}_i \\right)$. Hence, the summation term in the hinge loss can be expressed as: \n",
    "$$\n",
    "    \\sum_{j = 1}^n \\beta_j \\mathsf{K} \\left(\\mathbf{x}_j, \\mathbf{z}_i \\right) = \\mathbf{\\beta}^\\top \\mathsf{K}_{nm}[:, i]\n",
    "$$\n",
    "where $\\mathsf{K}_{nm}[:, i]$ is the $i^{th}$ column of $\\mathsf{K}_{nm}$.\n",
    "\n",
    "Combining the two simplifications we have, we arrive at the following final expression for the loss function: \n",
    "$$\n",
    "    \\begin{aligned}\n",
    "    \\ell\\left( \\mathbf{\\beta}, b \\right) = \\underbrace{\\mathbf{\\beta}^\\top \\mathsf{K}_{nn} \\mathbf{\\beta}}_{l_{2} \\text{ regularizer}}\n",
    "        + C \\underbrace{ \\sum_{i=1}^{m} \\max \\left[ 1-y_{i} \\left( \\mathbf{\\beta}^\\top \\mathsf{K}_{nm}[:, i] + b \\right), 0 \\right]^2}_{\\text{squared hinge loss}}\n",
    "    \\end{aligned}\n",
    "$$\n",
    "\n",
    "**During training, we minimize the training loss, with $\\mathsf{K}_{nm}$ replaced by $\\mathsf{K}_{nn}$, to get the optimal $\\mathbf{\\beta}, b$. Then we fix $\\mathbf{\\beta}, b$ and evaluate the loss value on testing points with $\\mathsf{K}_{nm}$ in the squared hinge loss.**\n",
    "\n",
    "Note that the loss function we have above is very similar to the vanilla linear SVM. The key differences are: \n",
    "1. Instead of $\\mathbf{w}$, we have $\\mathbf{\\beta}$ to optimize for.\n",
    "2. The $l_{2}$-regularizer $\\mathbf{w}^\\top \\mathbf{w}$ is replaced by $\\mathbf{\\beta}^\\top \\mathsf{K}_{nn} \\mathbf{\\beta}$ to account for using $\\mathbf{\\beta}$ instead of $\\mathbf{w}$.\n",
    "3. The inner product $\\mathbf{w}^\\top \\phi \\left( \\mathbf{z}_i \\right)$ in the hinge loss is changed to $\\mathbf{\\beta}^T \\mathsf{K}_{nm}[:, i]$.\n",
    "\n",
    "Since each entry of $\\mathsf{K}_{nn}$ and $\\mathsf{K}_{nm}$ can be calculated by a simple formula in `computeK`, the kernel SVM is efficiently optimizable even if the $\\phi$ function is in a high-dimensional space.\n",
    "\n",
    "### Part Two: Compute Loss [Graded]\n",
    "\n",
    "Now you will implement the function **`loss`**. The function takes in model parameters `beta, b`, $n$ training points as `xTr, yTr` and $m$ testing points as `xTe, yTe`, along with hyperparameters `C, kerneltype, kpar`. You will need to calculate both kernel matrices $\\mathsf{K}_{nn}$ and $\\mathsf{K}_{nm}$ using `computeK` on `xTr, xTr` and `xTr, xTe` respectively.\n",
    "\n",
    "When we use the `loss` function later on, we are going to be a little clever: we will use it both for testing and training loss.\n",
    "- During training, we will call `loss(beta, b, xTr, yTr, xTr, yTr, C, kerneltype, kpar)` so that the hinge loss gets calculated on $\\mathsf{K}_{nn}$.\n",
    "- During testing, we will just call `loss(beta, b, xTr, yTr, xTe, yTe, C, kerneltype, kpar)` so that the hinge loss gets calculated on $\\mathsf{K}_{nm}$.\n",
    "\n",
    "Therefore, you should implement `loss` keeping in mind how we will call it during training and testing."
   ]
  },
  {
   "cell_type": "code",
   "execution_count": null,
   "metadata": {
    "deletable": false,
    "nbgrader": {
     "checksum": "9c8a64b81c5176e744cd367130dbd718",
     "grade": false,
     "grade_id": "cell-loss",
     "locked": false,
     "schema_version": 1,
     "solution": true
    },
    "pycharm": {
     "name": "#%%\n"
    }
   },
   "outputs": [],
   "source": [
    "def loss(beta, b, xTr, yTr, xTe, yTe, C, kerneltype, kpar=1):\n",
    "    \"\"\"\n",
    "    Calculates the loss (regularizer + squared hinge loss) for testing data against training data and parameters beta, b.\n",
    "    \n",
    "    Input:\n",
    "        beta  : n-dimensional vector that stores the linear combination coefficients\n",
    "        b     : bias term, a scalar\n",
    "        xTr   : nxd dimensional data matrix (training set, each row is an input vector)\n",
    "        yTr   : n-dimensional vector (training labels, each entry is a label)\n",
    "        xTe   : mxd dimensional matrix (test set, each row is an input vector)\n",
    "        yTe   : m-dimensional vector (test labels, each entry is a label)\n",
    "        C     : scalar (constant that controls the tradeoff between l2-regularizer and hinge-loss)\n",
    "        kerneltype: either of ['linear', 'polynomial', 'rbf']\n",
    "        kpar  : kernel parameter (inverse sigma^2 in case of 'rbf', degree p in case of 'polynomial')\n",
    "    \n",
    "    Output:\n",
    "        loss_val : the total loss obtained with (beta, xTr, yTr, b) on xTe and yTe, a scalar\n",
    "    \"\"\"\n",
    "    \n",
    "    loss_val = 0.0\n",
    "    # compute the kernel values between xTr and xTr \n",
    "    kernel_train = computeK(kerneltype, xTr, xTr, kpar)\n",
    "    # compute the kernel values between xTr and xTe\n",
    "    kernel_test = computeK(kerneltype, xTr, xTe, kpar)\n",
    "\n",
    "    # YOUR CODE HERE\n",
    "    # calculate hinge loss\n",
    "    pred = 1 - yTe * (np.dot(beta, kernel_test) + b)\n",
    "    squared_hinge_loss = np.square(np.maximum(pred, 0))\n",
    "    sum_squared_hinge_loss = C * np.sum(squared_hinge_loss)\n",
    "    \n",
    "    # calculate l2 regularizer\n",
    "    l2_regularizer = beta @ kernel_train @ beta\n",
    "    \n",
    "    # calculate loss\n",
    "    loss_val = l2_regularizer + sum_squared_hinge_loss\n",
    "    \n",
    "    return loss_val"
   ]
  },
  {
   "cell_type": "code",
   "execution_count": null,
   "metadata": {
    "deletable": false,
    "editable": false,
    "nbgrader": {
     "checksum": "3a5a95e6b22e655780fc60248ba7b78d",
     "grade": false,
     "grade_id": "cell-loss_selftest",
     "locked": true,
     "schema_version": 1,
     "solution": false
    },
    "pycharm": {
     "name": "#%%\n"
    }
   },
   "outputs": [],
   "source": [
    "# These tests test whether your loss() is implemented correctly\n",
    "\n",
    "xTr_test, yTr_test = generate_data()\n",
    "n, d = xTr_test.shape\n",
    "\n",
    "# Check whether your loss() returns a scalar\n",
    "def loss_test1():\n",
    "    beta = np.zeros(n)\n",
    "    b = np.zeros(1)\n",
    "    loss_val = loss(beta, b, xTr_test, yTr_test, xTr_test, yTr_test, 10, 'rbf')\n",
    "    \n",
    "    return np.isscalar(loss_val)\n",
    "\n",
    "\n",
    "# Check whether your loss() returns a nonnegative scalar\n",
    "def loss_test2():\n",
    "    beta = np.random.rand(n)\n",
    "    b = np.random.rand(1)\n",
    "    loss_val = loss(beta, b, xTr_test, yTr_test, xTr_test, yTr_test, 10, 'rbf')\n",
    "    \n",
    "    return loss_val >= 0\n",
    "\n",
    "# Check whether you implement l2-regularizer correctly\n",
    "def loss_test3():\n",
    "    beta = np.random.rand(n)\n",
    "    b = np.random.rand(1)\n",
    "    loss_val = loss(beta, b, xTr_test, yTr_test, xTr_test, yTr_test, 0, 'rbf')\n",
    "    loss_val_grader = loss_grader(beta, b, xTr_test, yTr_test, xTr_test, yTr_test, 0, 'rbf')\n",
    "    \n",
    "    return (np.linalg.norm(loss_val - loss_val_grader) < 1e-5)\n",
    "\n",
    "# Check whether you implement square hinge loss correctly\n",
    "def loss_test4():\n",
    "    beta = np.zeros(n)\n",
    "    b = np.random.rand(1)\n",
    "    loss_val = loss(beta, b, xTr_test, yTr_test, xTr_test, yTr_test, 10, 'rbf')\n",
    "    loss_val_grader = loss_grader(beta, b, xTr_test, yTr_test, xTr_test, yTr_test, 10, 'rbf')\n",
    "    \n",
    "    return (np.linalg.norm(loss_val - loss_val_grader) < 1e-5)\n",
    "\n",
    "# Check whether you implement square hinge loss correctly\n",
    "def loss_test5():\n",
    "    beta = np.zeros(n)\n",
    "    b = np.random.rand(1)\n",
    "    loss_val = loss(beta, b, xTr_test, yTr_test, xTr_test, yTr_test, 10, 'rbf')\n",
    "    loss_val_grader = loss_grader(beta, b, xTr_test, yTr_test, xTr_test, yTr_test, 10, 'rbf')\n",
    "    \n",
    "    return (np.linalg.norm(loss_val - loss_val_grader) < 1e-5)\n",
    "\n",
    "# Check whether you implement loss correctly\n",
    "def loss_test6():\n",
    "    beta = np.zeros(n)\n",
    "    b = np.random.rand(1)\n",
    "    loss_val = loss(beta, b, xTr_test, yTr_test, xTr_test, yTr_test, 100, 'rbf')\n",
    "    loss_val_grader = loss_grader(beta, b, xTr_test, yTr_test, xTr_test, yTr_test, 100, 'rbf')\n",
    "    \n",
    "    return (np.linalg.norm(loss_val - loss_val_grader) < 1e-5)\n",
    "\n",
    "# Check whether you implement loss correctly for testing data\n",
    "def loss_test7():\n",
    "    xTe_test, yTe_test = generate_data()\n",
    "    m, _ = xTe_test.shape\n",
    "    \n",
    "    beta = np.zeros(n)\n",
    "    b = np.random.rand(1)\n",
    "    loss_val = loss(beta, b, xTr_test, yTr_test, xTe_test, yTe_test, 100, 'rbf')\n",
    "    loss_val_grader = loss_grader(beta, b, xTr_test, yTr_test, xTe_test, yTe_test, 100, 'rbf')\n",
    "    \n",
    "    return (np.linalg.norm(loss_val - loss_val_grader) < 1e-5)\n",
    "\n",
    "runtest(loss_test1,'loss_test1')\n",
    "runtest(loss_test2,'loss_test2')\n",
    "runtest(loss_test3,'loss_test3')\n",
    "runtest(loss_test4,'loss_test4')\n",
    "runtest(loss_test5,'loss_test5')\n",
    "runtest(loss_test6,'loss_test6')\n",
    "runtest(loss_test7,'loss_test7')"
   ]
  },
  {
   "cell_type": "code",
   "execution_count": null,
   "metadata": {
    "deletable": false,
    "editable": false,
    "nbgrader": {
     "checksum": "e8a8bf4f84c63257cc5027f369297d0c",
     "grade": true,
     "grade_id": "cell-loss-test1",
     "locked": true,
     "points": 1,
     "schema_version": 1,
     "solution": false
    },
    "pycharm": {
     "name": "#%%\n"
    }
   },
   "outputs": [],
   "source": [
    "# Autograder test cell - worth 1 point\n",
    "# runs loss_test1"
   ]
  },
  {
   "cell_type": "code",
   "execution_count": null,
   "metadata": {
    "deletable": false,
    "editable": false,
    "nbgrader": {
     "checksum": "8c5cb3e3eadf76dd90def267e635eb40",
     "grade": true,
     "grade_id": "cell-loss-test2",
     "locked": true,
     "points": 1,
     "schema_version": 1,
     "solution": false
    },
    "pycharm": {
     "name": "#%%\n"
    }
   },
   "outputs": [],
   "source": [
    "# Autograder test cell - worth 1 point\n",
    "# runs loss test2"
   ]
  },
  {
   "cell_type": "code",
   "execution_count": null,
   "metadata": {
    "deletable": false,
    "editable": false,
    "nbgrader": {
     "checksum": "e9e6086392f22c50444dadf2159d2c3a",
     "grade": true,
     "grade_id": "cell-loss-test3",
     "locked": true,
     "points": 1,
     "schema_version": 1,
     "solution": false
    },
    "pycharm": {
     "name": "#%%\n"
    }
   },
   "outputs": [],
   "source": [
    "# Autograder test cell - worth 1 point\n",
    "# runs loss test3"
   ]
  },
  {
   "cell_type": "code",
   "execution_count": null,
   "metadata": {
    "deletable": false,
    "editable": false,
    "nbgrader": {
     "checksum": "0ada7379e6811b8d2ed8c9a13a469f08",
     "grade": true,
     "grade_id": "cell-loss-test4",
     "locked": true,
     "points": 1,
     "schema_version": 1,
     "solution": false
    },
    "pycharm": {
     "name": "#%%\n"
    }
   },
   "outputs": [],
   "source": [
    "# Autograder test cell - worth 1 point\n",
    "# runs loss test4"
   ]
  },
  {
   "cell_type": "code",
   "execution_count": null,
   "metadata": {
    "deletable": false,
    "editable": false,
    "nbgrader": {
     "checksum": "02b8b483e19d5c129f7cc8f2c3cd495a",
     "grade": true,
     "grade_id": "cell-loss-test5",
     "locked": true,
     "points": 1,
     "schema_version": 1,
     "solution": false
    },
    "pycharm": {
     "name": "#%%\n"
    }
   },
   "outputs": [],
   "source": [
    "# Autograder test cell - worth 1 point\n",
    "# runs loss test5"
   ]
  },
  {
   "cell_type": "code",
   "execution_count": null,
   "metadata": {
    "deletable": false,
    "editable": false,
    "nbgrader": {
     "checksum": "52d0e4ff5205be1aa4a08460ca8f211f",
     "grade": true,
     "grade_id": "cell-loss-test6",
     "locked": true,
     "points": 1,
     "schema_version": 1,
     "solution": false
    },
    "pycharm": {
     "name": "#%%\n"
    }
   },
   "outputs": [],
   "source": [
    "# Autograder test cell - worth 1 point\n",
    "# runs loss test6"
   ]
  },
  {
   "cell_type": "code",
   "execution_count": null,
   "metadata": {
    "deletable": false,
    "editable": false,
    "nbgrader": {
     "checksum": "594bd32070d790dd0c25ebf7187ba022",
     "grade": true,
     "grade_id": "cell-loss-test7",
     "locked": true,
     "points": 1,
     "schema_version": 1,
     "solution": false
    },
    "pycharm": {
     "name": "#%%\n"
    }
   },
   "outputs": [],
   "source": [
    "# Autograder test cell - worth 1 point\n",
    "xTe_test, yTe_test = generate_data()\n",
    "m, _ = xTe_test.shape\n",
    "\n",
    "assert loss_test7()\n",
    "# runs loss test7"
   ]
  },
  {
   "cell_type": "markdown",
   "metadata": {
    "deletable": false,
    "editable": false,
    "nbgrader": {
     "checksum": "a0a2d93aab219b7502c2efbf74baf807",
     "grade": false,
     "grade_id": "cell-3d6aa5df021a859a",
     "locked": true,
     "schema_version": 1,
     "solution": false
    },
    "pycharm": {
     "name": "#%% md\n"
    }
   },
   "source": [
    "### Part Three: Compute Gradient [Graded]\n",
    "\n",
    "Now, you will implement the function **`grad`** that computes the gradients of the loss function with respect to the parameters, similar to what you did in the Linear SVM project. `grad` outputs the gradient with respect to $\\mathbf{\\beta}$ (`beta_grad`) and $b$ (`bgrad`). Unlike `loss`, `grad` is only called during the training phase; consequently, the input parameters don't include `xTe, yTe`. Remember that the squared hinge loss is calculated with $\\mathsf{K}_{nn}$ when training, and so you would just need to call `computeK` on `xTr, xTr` here.\n",
    "\n",
    "The gradients are given by:\n",
    "$$\n",
    "    \\begin{aligned}\n",
    "    \\frac{\\partial \\ell}{\\partial \\mathbf{\\beta}} &=  2 \\mathsf{K}_{nn} \\mathbf{\\beta} + C \\sum_{i=1}^{n} 2 \\max \\left[ 1-y_{i} \\left(\\mathbf{\\beta}^\\top \\mathsf{K}_{nn}[:, i] + b \\right), 0 \\right] \\left( - y_i \\mathsf{K}_{nn}[:, i] \\right) \\mathbf{1}_{1 - y_i \\left( \\mathbf{\\beta}^\\top \\mathsf{K}_{nn}[:, i] + b \\right) > 0}\\\\\n",
    "    \\frac{\\partial \\ell}{\\partial b} &=  C \\sum_{i=1}^{n} 2 \\max \\left[ 1-y_{i} \\left( \\mathbf{\\beta}^\\top \\mathsf{K}_{nn}[:, i] + b \\right), 0 \\right] \\left(-y_i \\right) \\mathbf{1}_{1 - y_i \\left( \\mathbf{\\beta}^\\top \\mathsf{K}_{nn}[:, i] + b \\right) > 0}\n",
    "    \\end{aligned}\n",
    "$$\n",
    "where the indicator function is:\n",
    "$$\n",
    "\\mathbf{1}_{1 - y_i \\left( \\mathbf{\\beta}^\\top \\mathsf{K}_{nn}[:, i] + b \\right) > 0} = \\left\\{ \\begin{array}{ll}1 & \\text{if }1 - y_i \\left( \\mathbf{\\beta}^\\top \\mathsf{K}_{nn}[:, i] + b \\right) > 0 \\\\ 0 & \\text{otherwise} \\end{array} \\right.\n",
    "$$"
   ]
  },
  {
   "cell_type": "code",
   "execution_count": null,
   "metadata": {
    "deletable": false,
    "nbgrader": {
     "checksum": "c550cfcd15b704f023fc29204ec4c819",
     "grade": false,
     "grade_id": "cell-grad",
     "locked": false,
     "schema_version": 1,
     "solution": true
    },
    "pycharm": {
     "name": "#%%\n"
    }
   },
   "outputs": [],
   "source": [
    "def grad(beta, b, xTr, yTr, C, kerneltype, kpar=1):\n",
    "    \"\"\"\n",
    "    Calculates the gradients of the loss function with respect to beta and b.\n",
    "    \n",
    "    Input:\n",
    "        beta  : n-dimensional vector that stores the linear combination coefficients\n",
    "        b     : bias term, a scalar\n",
    "        xTr   : nxd dimensional data matrix (training set, each row is an input vector)\n",
    "        yTr   : n-dimensional vector (training labels, each entry is a label)\n",
    "        C     : scalar (constant that controls the tradeoff between l2-regularizer and hinge-loss)\n",
    "        kerneltype: either of ['linear', 'polynomial', 'rbf']\n",
    "        kpar  : kernel parameter (inverse sigma^2 in case of 'rbf', degree p in case of 'polynomial')\n",
    "    \n",
    "    Output:\n",
    "        beta_grad, bgrad\n",
    "        beta_grad :  n-dimensional vector (the gradient of loss with respect to the beta)\n",
    "        bgrad     :  scalar (the gradient of loss with respect to the bias, b)\n",
    "    \"\"\"\n",
    "    \n",
    "    n, d = xTr.shape\n",
    "    \n",
    "    beta_grad = np.zeros(n)\n",
    "    bgrad = np.zeros(1)\n",
    "    \n",
    "    # compute the kernel values between xTr and xTr \n",
    "    kernel_train = computeK(kerneltype, xTr, xTr, kpar)\n",
    "\n",
    "    # YOUR CODE HERE\n",
    "    # note: indicator function values not needed to calculate due to max[pred, 0]\n",
    "    \n",
    "    # calculate gradient for beta: l2 regularizer\n",
    "    grad_l2_regularizer = 2 * (kernel_train @ beta)\n",
    "    \n",
    "    # calculate gradient for beta: hinge loss\n",
    "    pred = 1 - yTr * (np.dot(beta, kernel_train) + b)\n",
    "    hinge = np.maximum(pred, 0)\n",
    "    grad_hinge = C * np.sum((2 * hinge * (-1) * yTr).reshape(-1, 1) * kernel_train, axis=0)\n",
    "    beta_grad = grad_l2_regularizer + grad_hinge\n",
    "    \n",
    "    # calculate gradient for b\n",
    "    bgrad = C * np.sum(2 * hinge * (-1) * yTr, axis=0)\n",
    "    \n",
    "    return beta_grad, bgrad"
   ]
  },
  {
   "cell_type": "code",
   "execution_count": null,
   "metadata": {
    "deletable": false,
    "editable": false,
    "nbgrader": {
     "checksum": "562444c9f79ca1dcb5c2538d5abac938",
     "grade": false,
     "grade_id": "cell-grad_selftest",
     "locked": true,
     "schema_version": 1,
     "solution": false
    },
    "pycharm": {
     "name": "#%%\n"
    }
   },
   "outputs": [],
   "source": [
    "# These tests test whether your grad() is implemented correctly\n",
    "\n",
    "xTr_test, yTr_test = generate_data()\n",
    "n, d = xTr_test.shape\n",
    "    \n",
    "# Checks whether grad returns a tuple\n",
    "def grad_test1():\n",
    "    beta = np.random.rand(n)\n",
    "    b = np.random.rand(1)\n",
    "    out = grad(beta, b, xTr_test, yTr_test, 10, 'rbf')\n",
    "    return len(out) == 2\n",
    "\n",
    "# Checks the dimension of gradients\n",
    "def grad_test2():\n",
    "    beta = np.random.rand(n)\n",
    "    b = np.random.rand(1)\n",
    "    beta_grad, bgrad = grad(beta, b, xTr_test, yTr_test, 10, 'rbf')\n",
    "    return len(beta_grad) == n and np.isscalar(bgrad)\n",
    "\n",
    "# Checks the gradient of the l2 regularizer\n",
    "def grad_test3():\n",
    "    beta = np.random.rand(n)\n",
    "    b = np.random.rand(1)\n",
    "    beta_grad, bgrad = grad(beta, b, xTr_test, yTr_test, 0, 'rbf')\n",
    "    beta_grad_grader, bgrad_grader = grad_grader(beta, b, xTr_test, yTr_test, 0, 'rbf')\n",
    "    return (np.linalg.norm(beta_grad - beta_grad_grader) < 1e-5) and \\\n",
    "        (np.linalg.norm(bgrad - bgrad_grader) < 1e-5)\n",
    "\n",
    "# Checks the gradient of the square hinge loss\n",
    "def grad_test4():\n",
    "    beta = np.zeros(n)\n",
    "    b = np.random.rand(1)\n",
    "    beta_grad, bgrad = grad(beta, b, xTr_test, yTr_test, 1, 'rbf')\n",
    "    beta_grad_grader, bgrad_grader = grad_grader(beta, b, xTr_test, yTr_test, 1, 'rbf')\n",
    "    return (np.linalg.norm(beta_grad - beta_grad_grader) < 1e-5) and \\\n",
    "        (np.linalg.norm(bgrad - bgrad_grader) < 1e-5)\n",
    "\n",
    "# Checks the gradient of the loss\n",
    "def grad_test5():\n",
    "    beta = np.random.rand(n)\n",
    "    b = np.random.rand(1)\n",
    "    beta_grad, bgrad = grad(beta, b, xTr_test, yTr_test, 10, 'rbf')\n",
    "    beta_grad_grader, bgrad_grader = grad_grader(beta, b, xTr_test, yTr_test, 10, 'rbf')\n",
    "    return (np.linalg.norm(beta_grad - beta_grad_grader) < 1e-5) and \\\n",
    "        (np.linalg.norm(bgrad - bgrad_grader) < 1e-5)\n",
    "\n",
    "runtest(grad_test1, 'grad_test1')\n",
    "runtest(grad_test2, 'grad_test2')\n",
    "runtest(grad_test3, 'grad_test3')\n",
    "runtest(grad_test4, 'grad_test4')\n",
    "runtest(grad_test5, 'grad_test5')"
   ]
  },
  {
   "cell_type": "code",
   "execution_count": null,
   "metadata": {
    "deletable": false,
    "editable": false,
    "nbgrader": {
     "checksum": "e6a5e50adcf9780a271d1d05c561fdaf",
     "grade": true,
     "grade_id": "cell-grad-test1",
     "locked": true,
     "points": 1,
     "schema_version": 1,
     "solution": false
    },
    "pycharm": {
     "name": "#%%\n"
    }
   },
   "outputs": [],
   "source": [
    "# Autograder test cell - worth 1 point\n",
    "# runs grad test1"
   ]
  },
  {
   "cell_type": "code",
   "execution_count": null,
   "metadata": {
    "deletable": false,
    "editable": false,
    "nbgrader": {
     "checksum": "9092ccd637ef0692daf56b2d73f025a4",
     "grade": true,
     "grade_id": "cell-grad-test2",
     "locked": true,
     "points": 1,
     "schema_version": 1,
     "solution": false
    },
    "pycharm": {
     "name": "#%%\n"
    }
   },
   "outputs": [],
   "source": [
    "# Autograder test cell - worth 1 point\n",
    "# runs grad test2"
   ]
  },
  {
   "cell_type": "code",
   "execution_count": null,
   "metadata": {
    "deletable": false,
    "editable": false,
    "nbgrader": {
     "checksum": "49eef008dacc9d50d1e58f47be24cceb",
     "grade": true,
     "grade_id": "cell-grad-test3",
     "locked": true,
     "points": 1,
     "schema_version": 1,
     "solution": false
    },
    "pycharm": {
     "name": "#%%\n"
    }
   },
   "outputs": [],
   "source": [
    "# Autograder test cell - worth 1 point\n",
    "# runs grad test3"
   ]
  },
  {
   "cell_type": "code",
   "execution_count": null,
   "metadata": {
    "deletable": false,
    "editable": false,
    "nbgrader": {
     "checksum": "f0f17b5b6aa3d7e8cd72fb7fc4601e18",
     "grade": true,
     "grade_id": "cell-grad-test4",
     "locked": true,
     "points": 1,
     "schema_version": 1,
     "solution": false
    },
    "pycharm": {
     "name": "#%%\n"
    }
   },
   "outputs": [],
   "source": [
    "# Autograder test cell - worth 1 point\n",
    "# runs grad test4"
   ]
  },
  {
   "cell_type": "code",
   "execution_count": null,
   "metadata": {
    "deletable": false,
    "editable": false,
    "nbgrader": {
     "checksum": "9868abc360f647a4d380736d02d8dc84",
     "grade": true,
     "grade_id": "cell-grad-test5",
     "locked": true,
     "points": 1,
     "schema_version": 1,
     "solution": false
    },
    "pycharm": {
     "name": "#%%\n"
    }
   },
   "outputs": [],
   "source": [
    "# Autograder test cell - worth 1 point\n",
    "# runs grad test5"
   ]
  },
  {
   "cell_type": "markdown",
   "metadata": {
    "deletable": false,
    "editable": false,
    "nbgrader": {
     "checksum": "e688b4538225a10bd1cda39c21ea3a71",
     "grade": false,
     "grade_id": "cell-55010276d0cd5293",
     "locked": true,
     "schema_version": 1,
     "solution": false
    },
    "pycharm": {
     "name": "#%% md\n"
    }
   },
   "source": [
    "## Test the Kernelized Algorithm"
   ]
  },
  {
   "cell_type": "markdown",
   "metadata": {
    "deletable": false,
    "editable": false,
    "nbgrader": {
     "checksum": "8ce182830fbd9e020f3f6b150d5f6cd3",
     "grade": false,
     "grade_id": "cell-930a242b240cc933",
     "locked": true,
     "schema_version": 1,
     "solution": false
    },
    "pycharm": {
     "name": "#%% md\n"
    }
   },
   "source": [
    "Using the cell below, you can call the optimization routine that we have implemented for you to see the final loss of your model. The loss will not be 0 since it includes the non-zero regularization term. To check only squared hinge loss term, we can subtract the regularization term from the final loss."
   ]
  },
  {
   "cell_type": "code",
   "execution_count": null,
   "metadata": {
    "pycharm": {
     "name": "#%%\n"
    }
   },
   "outputs": [],
   "source": [
    "beta_sol, bias_sol, final_loss = minimize(objective=loss, grad=grad, xTr=xTr, yTr=yTr, C=1000, kerneltype='linear', kpar=1)\n",
    "print('The Final Loss of your model is: {:0.4f}'.format(final_loss))\n",
    "\n",
    "K_nn = computeK('linear', xTr, xTr, kpar=1)\n",
    "reg = beta_sol @ K_nn @ beta_sol\n",
    "print('The Final Squared Hinge Loss of your model is: {:0.4f}'.format(final_loss - reg))"
   ]
  },
  {
   "cell_type": "markdown",
   "metadata": {
    "deletable": false,
    "editable": false,
    "nbgrader": {
     "checksum": "969d1816c68107fd6e4b0a97e848fd79",
     "grade": false,
     "grade_id": "cell-8e81c269f495b733",
     "locked": true,
     "schema_version": 1,
     "solution": false
    },
    "pycharm": {
     "name": "#%% md\n"
    }
   },
   "source": [
    "If everything is implemented correctly, you should be able to get a training error of zero when you run the following cell."
   ]
  },
  {
   "cell_type": "code",
   "execution_count": null,
   "metadata": {
    "deletable": false,
    "editable": false,
    "nbgrader": {
     "checksum": "fd399d2efdadd3da916d754190cd296e",
     "grade": false,
     "grade_id": "cell-20ca56dcce47a510",
     "locked": true,
     "schema_version": 1,
     "solution": false
    },
    "pycharm": {
     "name": "#%%\n"
    }
   },
   "outputs": [],
   "source": [
    "svmclassify = lambda x: np.sign(computeK('linear', x, xTr, 1).dot(beta_sol) + bias_sol)\n",
    "\n",
    "predsTr=svmclassify(xTr)\n",
    "trainingerr=np.mean(np.sign(predsTr)!=yTr)\n",
    "print(\"Training error: %2.4f\" % trainingerr)"
   ]
  },
  {
   "cell_type": "markdown",
   "metadata": {
    "deletable": false,
    "editable": false,
    "nbgrader": {
     "checksum": "d42a7b6df0a29f387b4e162d68f3b909",
     "grade": false,
     "grade_id": "cell-d7214490d41e9d20",
     "locked": true,
     "schema_version": 1,
     "solution": false
    },
    "pycharm": {
     "name": "#%% md\n"
    }
   },
   "source": [
    "<h3>Visualize the Decision Boundary</h3>\n",
    "\n",
    "Also, when you visualize the classifier, you should see a max margin separator."
   ]
  },
  {
   "cell_type": "code",
   "execution_count": null,
   "metadata": {
    "pycharm": {
     "name": "#%%\n"
    }
   },
   "outputs": [],
   "source": [
    "%matplotlib inline\n",
    "visclassifier(svmclassify, xTr, yTr)"
   ]
  },
  {
   "cell_type": "markdown",
   "metadata": {
    "deletable": false,
    "editable": false,
    "nbgrader": {
     "checksum": "b2d9ad8aa8f8309e1e1750341e3850f9",
     "grade": false,
     "grade_id": "cell-f922d756ef836ee9",
     "locked": true,
     "schema_version": 1,
     "solution": false
    },
    "pycharm": {
     "name": "#%% md\n"
    }
   },
   "source": [
    "Let's visualize a different kind of nonlinear data, a spiral dataset."
   ]
  },
  {
   "cell_type": "code",
   "execution_count": null,
   "metadata": {
    "pycharm": {
     "name": "#%%\n"
    }
   },
   "outputs": [],
   "source": [
    "xTr_spiral,yTr_spiral,xTe_spiral,yTe_spiral = spiraldata()\n",
    "\n",
    "%matplotlib inline\n",
    "visualize_2D(xTr_spiral, yTr_spiral)"
   ]
  },
  {
   "cell_type": "markdown",
   "metadata": {
    "deletable": false,
    "editable": false,
    "nbgrader": {
     "checksum": "f7be051fe2cdb22916e578bb5d98cbb4",
     "grade": false,
     "grade_id": "cell-a933ec17f7cbee07",
     "locked": true,
     "schema_version": 1,
     "solution": false
    },
    "pycharm": {
     "name": "#%% md\n"
    }
   },
   "source": [
    "Since the dataset is nonlinear, we are going to use the RBF kernel."
   ]
  },
  {
   "cell_type": "code",
   "execution_count": null,
   "metadata": {
    "pycharm": {
     "name": "#%%\n"
    }
   },
   "outputs": [],
   "source": [
    "beta_sol_spiral, bias_sol_spiral, final_loss_spiral = minimize(objective=loss, grad=grad, xTr=xTr_spiral, yTr=yTr_spiral, C=100, kerneltype='rbf', kpar=1)\n",
    "print('The Final Loss of your model is: {:0.4f}'.format(final_loss_spiral))\n",
    "\n",
    "K_nn = computeK('rbf', xTr_spiral, xTr_spiral, kpar=1)\n",
    "reg = beta_sol_spiral @ K_nn @ beta_sol_spiral\n",
    "print('The Final Squared Hinge Loss of your model is: {:0.4f}'.format(final_loss_spiral - reg))"
   ]
  },
  {
   "cell_type": "markdown",
   "metadata": {
    "deletable": false,
    "editable": false,
    "nbgrader": {
     "checksum": "3024813dcdb212a3e6c40b87b6128d64",
     "grade": false,
     "grade_id": "cell-28c6cee7c68d04e9",
     "locked": true,
     "schema_version": 1,
     "solution": false
    },
    "pycharm": {
     "name": "#%% md\n"
    }
   },
   "source": [
    "If you do everything correctly, your training error and test error should both be zero!"
   ]
  },
  {
   "cell_type": "code",
   "execution_count": null,
   "metadata": {
    "deletable": false,
    "editable": false,
    "nbgrader": {
     "checksum": "25a221d777e6a1d4838b9449fd33c46e",
     "grade": false,
     "grade_id": "cell-16357e4762b8370b",
     "locked": true,
     "schema_version": 1,
     "solution": false
    },
    "pycharm": {
     "name": "#%%\n"
    }
   },
   "outputs": [],
   "source": [
    "svmclassify_spiral = lambda x: np.sign(computeK('rbf', xTr_spiral, x, 1).transpose().dot(beta_sol_spiral) + bias_sol_spiral)\n",
    "\n",
    "predsTr_spiral = svmclassify_spiral(xTr_spiral)\n",
    "trainingerr_spiral = np.mean(predsTr_spiral != yTr_spiral)\n",
    "print(\"Training error: %2.4f\" % trainingerr_spiral)\n",
    "\n",
    "predsTe_spiral = svmclassify_spiral(xTe_spiral)\n",
    "testerr_spiral = np.mean(predsTe_spiral != yTe_spiral)\n",
    "print(\"Test error: %2.4f\" % testerr_spiral)"
   ]
  },
  {
   "cell_type": "markdown",
   "metadata": {
    "deletable": false,
    "editable": false,
    "nbgrader": {
     "checksum": "5258391aaa1011f9114a967201e65783",
     "grade": false,
     "grade_id": "cell-52cb1b9aae3993cb",
     "locked": true,
     "schema_version": 1,
     "solution": false
    },
    "pycharm": {
     "name": "#%% md\n"
    }
   },
   "source": [
    "Now, let's visualize the classifier on the spiral dataset!"
   ]
  },
  {
   "cell_type": "code",
   "execution_count": null,
   "metadata": {
    "deletable": false,
    "editable": false,
    "nbgrader": {
     "checksum": "3ed86f72e1c71972c4248d46c6221ad1",
     "grade": false,
     "grade_id": "cell-40d1227ae7bf20e6",
     "locked": true,
     "schema_version": 1,
     "solution": false
    },
    "pycharm": {
     "name": "#%%\n"
    }
   },
   "outputs": [],
   "source": [
    "visclassifier(svmclassify_spiral, xTr_spiral, yTr_spiral)"
   ]
  },
  {
   "cell_type": "markdown",
   "metadata": {
    "deletable": false,
    "editable": false,
    "nbgrader": {
     "checksum": "92802bb8686f9f8c5ae50283635cec52",
     "grade": false,
     "grade_id": "cell-bf3cce5e4e644ea2",
     "locked": true,
     "schema_version": 1,
     "solution": false
    },
    "pycharm": {
     "name": "#%% md\n"
    }
   },
   "source": [
    "<h3>Interactive Demo</h3>\n",
    "\n",
    "Running the code below will create an interactive window where you can click to add new data points to see how a kernel SVM with RBF kernel will respond. There may be a significant delay between clicks."
   ]
  },
  {
   "cell_type": "code",
   "execution_count": null,
   "metadata": {
    "deletable": false,
    "editable": false,
    "pycharm": {
     "name": "#%%\n"
    }
   },
   "outputs": [],
   "source": [
    "Xdata = []\n",
    "ldata = []\n",
    "svmC=10;\n",
    "\n",
    "fig = plt.figure()\n",
    "details = {\n",
    "    'ax': fig.add_subplot(111), \n",
    "}\n",
    "\n",
    "plt.xlim(0,1)\n",
    "plt.ylim(0,1)\n",
    "plt.title('Click to add positive point and shift+click to add negative points.')\n",
    "\n",
    "def vis2(fun,xTr,yTr):\n",
    "    yTr = np.array(yTr).flatten()\n",
    "    symbols = [\"ko\",\"kx\"]\n",
    "    marker_symbols = ['o', 'x']\n",
    "    mycolors = [[0.5, 0.5, 1], [1, 0.5, 0.5]]\n",
    "    classvals = np.unique(yTr)\n",
    "    res=150\n",
    "    xrange = np.linspace(0,1,res)\n",
    "    yrange = np.linspace(0,1,res)\n",
    "    pixelX = repmat(xrange, res, 1)\n",
    "    pixelY = repmat(yrange, res, 1).T\n",
    "    xTe = np.array([pixelX.flatten(), pixelY.flatten()]).T\n",
    "    testpreds = fun(xTe)\n",
    "    Z = testpreds.reshape(res, res)\n",
    "    plt.contourf(pixelX, pixelY, np.sign(Z), colors=mycolors)\n",
    "\n",
    "    for idx, c in enumerate(classvals):\n",
    "        plt.scatter(xTr[yTr == c,0],\n",
    "            xTr[yTr == c,1],\n",
    "            marker=marker_symbols[idx],\n",
    "            color='k'\n",
    "           )\n",
    "    plt.show()\n",
    "\n",
    "\n",
    "def generate_onclick(Xdata, ldata):    \n",
    "    global details\n",
    "    def onclick(event):\n",
    "        if event.key == 'shift': \n",
    "            # add positive point\n",
    "            details['ax'].plot(event.xdata,event.ydata,'or')\n",
    "            label = 1\n",
    "        else: # add negative point\n",
    "            details['ax'].plot(event.xdata,event.ydata,'ob')\n",
    "            label = -1    \n",
    "        pos = np.array([event.xdata, event.ydata])\n",
    "        ldata.append(label)\n",
    "        Xdata.append(pos)\n",
    "        \n",
    "        X=np.array(Xdata)\n",
    "        Y=np.array(ldata)\n",
    "        beta_sol, bias_sol, final_loss = minimize(objective=loss, grad=grad, xTr=X, yTr=Y, C=svmC, kerneltype='rbf', kpar=1)\n",
    "        svmclassify_demo = lambda x: np.sign(computeK('rbf', X, x, 1).transpose().dot(beta_sol) + bias_sol)\n",
    "        vis2(svmclassify_demo, X, Y)    \n",
    "    return onclick\n",
    "\n",
    "\n",
    "cid = fig.canvas.mpl_connect('button_press_event', generate_onclick(Xdata, ldata))\n",
    "plt.show()"
   ]
  },
  {
   "cell_type": "markdown",
   "metadata": {
    "deletable": false,
    "editable": false,
    "nbgrader": {
     "checksum": "c2e9b280390e13918670966c81021c75",
     "grade": false,
     "grade_id": "cell-6b35b9e2250e2c38",
     "locked": true,
     "schema_version": 1,
     "solution": false
    },
    "pycharm": {
     "name": "#%% md\n"
    }
   },
   "source": [
    "### Scikit-learn Implementation\n",
    "\n",
    "Scikit-learn provides a variety of kernels to create [kernel SVM classifiers](https://scikit-learn.org/stable/modules/generated/sklearn.svm.SVC.html). Here's an example on the spiral dataset."
   ]
  },
  {
   "cell_type": "code",
   "execution_count": null,
   "metadata": {
    "pycharm": {
     "name": "#%%\n"
    }
   },
   "outputs": [],
   "source": [
    "from sklearn.svm import SVC\n",
    "\n",
    "clf = SVC(\n",
    "    C=100,\n",
    "    kernel='rbf',\n",
    "    gamma=1, # equivalent to kpar in our implementation\n",
    "    shrinking=False,\n",
    "    tol=1e-8, # early stopping threshold, solver stops when successive losses don't change more than tol\n",
    "    max_iter=10000,\n",
    "    random_state=0\n",
    ")\n",
    "clf.fit(xTr_spiral, yTr_spiral)\n",
    "\n",
    "predsTr_spiral = clf.predict(xTr_spiral)\n",
    "trainingerr_spiral = np.mean(predsTr_spiral != yTr_spiral)\n",
    "print(\"Training error: %2.4f\" % trainingerr_spiral)\n",
    "\n",
    "predsTe_spiral = clf.predict(xTe_spiral)\n",
    "testerr_spiral = np.mean(predsTe_spiral != yTe_spiral)\n",
    "print(\"Test error: %2.4f\" % testerr_spiral)"
   ]
  },
  {
   "cell_type": "code",
   "execution_count": null,
   "metadata": {
    "pycharm": {
     "name": "#%%\n"
    }
   },
   "outputs": [],
   "source": []
  }
 ],
 "metadata": {
  "kernelspec": {
   "display_name": "Python 3",
   "language": "python",
   "name": "python3"
  },
  "language_info": {
   "codemirror_mode": {
    "name": "ipython",
    "version": 3
   },
   "file_extension": ".py",
   "mimetype": "text/x-python",
   "name": "python",
   "nbconvert_exporter": "python",
   "pygments_lexer": "ipython3",
   "version": "3.6.8"
  }
 },
 "nbformat": 4,
 "nbformat_minor": 4
}